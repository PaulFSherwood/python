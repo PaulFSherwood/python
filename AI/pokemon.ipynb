{
  "nbformat": 4,
  "nbformat_minor": 0,
  "metadata": {
    "colab": {
      "name": "Untitled3.ipynb",
      "provenance": [],
      "authorship_tag": "ABX9TyMmG9XaDlIs3TYDXMcSdT9b",
      "include_colab_link": true
    },
    "kernelspec": {
      "name": "python3",
      "display_name": "Python 3"
    }
  },
  "cells": [
    {
      "cell_type": "markdown",
      "metadata": {
        "id": "view-in-github",
        "colab_type": "text"
      },
      "source": [
        "<a href=\"https://colab.research.google.com/github/PaulFSherwood/python/blob/master/AI/pokemon.ipynb\" target=\"_parent\"><img src=\"https://colab.research.google.com/assets/colab-badge.svg\" alt=\"Open In Colab\"/></a>"
      ]
    },
    {
      "cell_type": "markdown",
      "metadata": {
        "id": "-9EWB92Crlds"
      },
      "source": [
        "# **Loading data into Pandas**"
      ]
    },
    {
      "cell_type": "code",
      "metadata": {
        "id": "AQJ_RAL2rrOX"
      },
      "source": [
        "## Complete Python Pandas Data Science Tutorial! (Reading CSV/Excel files, Sorting, Filtering, Groupby)\r\n",
        "## https://www.youtube.com/watch?v=vmEHCJofslg&t=266s\r\n",
        "import pandas as pd\r\n",
        "df = pd.read_csv('https://raw.githubusercontent.com/PaulFSherwood/python/master/AI/pokemon_data.csv')\r\n",
        "# pd.set_option('display.max_row', 100)\r\n",
        "# print(df.head(10))\r\n",
        "# print(df.tail(2))"
      ],
      "execution_count": 66,
      "outputs": []
    },
    {
      "cell_type": "markdown",
      "metadata": {
        "id": "izFgayxD0KLJ"
      },
      "source": [
        "# **Reading Data into Pandas**"
      ]
    },
    {
      "cell_type": "code",
      "metadata": {
        "colab": {
          "base_uri": "https://localhost:8080/"
        },
        "id": "OcQZKon5z02A",
        "outputId": "935e2b3a-aef1-441b-a72a-268af6e4a6cd"
      },
      "source": [
        "## Read Headers\r\n",
        "# print(df.columns)  # print headers\r\n",
        "df.columns\r\n",
        "\r\n",
        "#####     #####     #####     #####     #####\r\n",
        "## Read each Column\r\n",
        "## print(df[['Name', 'Type 1', 'HP']].head(10))  # print top ten rows\r\n",
        "\r\n",
        "#####     #####     #####     #####     #####\r\n",
        "## Read Each Row\r\n",
        "## print(df.iloc[1])                             # print location 1\r\n",
        "## print(df.iloc[2:5])                           # print series of rows\r\n",
        "\r\n",
        "\r\n",
        "# [ ***** ] #\r\n",
        "# Make sure the values with digits and T/F do not have quotes around them\r\n",
        "# Or it will think it is looking for a string over a integer/bool\r\n",
        "# [ ***** ] #\r\n",
        "\r\n",
        "# for index, row in df.iterrows():          ## trying to narrow down selection\r\n",
        "#   data = row['Legendary']                 ##\r\n",
        "#   if data == True:                        ##\r\n",
        "#     print(index, row)                     ##\r\n",
        "\r\n",
        "\r\n",
        "# print(index, row[11])\r\n",
        "# df.loc[df['Type 1'] == \"Fire\"]  # Narrows to Fire only format is great\r\n",
        "\r\n",
        "\r\n",
        "#     [(     CONDITION 1       ) & (     CONDITION 2      )]\r\n",
        "# df.loc[(df['Legendary'] == True) & (df['Type 1'] == \"Fire\")].head(10)  # MULTIPL conditions\r\n",
        "# df.loc[df['Type 1'] == \"Fire\"].head(3)   # one condition\r\n",
        "\r\n",
        "\r\n",
        "#####     #####     #####     #####     #####\r\n",
        "## Read a specific location (R, C)\r\n",
        "#  print(df.iloc[2, 11])\r\n",
        "\r\n",
        "#####     #####     #####     #####     #####\r\n",
        "## Sorting stats\r\n",
        "# df.describe() #  get some stats\r\n",
        "# df.sort_values('Name', ascending=False)\r\n",
        "# df.sort_values(['Name', 'HP'], ascending=[1, 1]).head(10) # ascending=False).head(5)\r\n",
        "# df['Total'] = df['HP'] + df['Attack'] + df['Defense'] + df['Sp. Atk'] + df['Sp. Def'] + df['Speed']\r\n",
        "# df = df.drop(columns=['Total'])\r\n",
        "# df['Total'] = df.iloc[:, 4:10].sum(axis = 1)\r\n",
        "# ### df.to_csv('modified.csv', index=False)  ## you can remove , index=False if you want the indexs in the output.\r\n",
        "# df.head(5)\r\n",
        "\r\n",
        "#####     #####     #####     #####     #####\r\n",
        "## Narrowing search & resetting the index\r\n",
        "# new_df = df.loc[(df['Type 1'] == 'Grass') & (df['Type 2'] == 'Poison') & (df['HP'] > 70)]\r\n",
        "# new_df.reset_index(drop=True, inplace=True)\r\n",
        "# print(new_df)\r\n",
        "\r\n",
        "#####     #####     #####     #####     #####\r\n",
        "## Filter out name\r\n",
        "# df.loc[df['Name'].str.contains('Mega')]  # shows only cells with name 'Mega'\r\n",
        "# df.loc[~df['Name'].str.contains('Mega')]  # shows only cells that don't have name 'Mega'\r\n",
        "\r\n",
        "#####     #####     #####     #####     #####\r\n",
        "## Filter with regex\r\n",
        "import re                                    # ignore case\r\n",
        "# df.loc[df['Type 1'].str.contains('Fire|grass', flags=re.I, regex=True)] # using either / or\r\n",
        "# df.loc[df['Name'].str.contains('^pi[a-z]*', flags=re.I, regex=True)] # search for names that start with\r\n",
        "\r\n",
        "#####     #####     #####     #####     #####\r\n",
        "## Change Name\r\n",
        "# df.loc[df['Type 1'] == 'Fire', 'Type 1'] = 'Flamer'\r\n",
        "# df.loc[df['Type 2'].isnull(), 'Type 2'] = '[-----]'\r\n",
        "\r\n",
        "#####     #####     #####     #####     #####\r\n",
        "## group by and counting\r\n",
        "# df.groupby(['Type 1']).mean().sort_values('Defense', ascending=False)\r\n",
        "df['Count'] = 1 # make a new column\r\n",
        "# df.groupby(['Type 1']).count()['Count']\r\n",
        "df.groupby(['Type 1', 'Type 2']).count()['Count']\r\n"
      ],
      "execution_count": 67,
      "outputs": [
        {
          "output_type": "execute_result",
          "data": {
            "text/plain": [
              "Type 1  Type 2  \n",
              "Bug     Electric     2\n",
              "        Fighting     2\n",
              "        Fire         2\n",
              "        Flying      14\n",
              "        Ghost        1\n",
              "                    ..\n",
              "Water   Ice          3\n",
              "        Poison       3\n",
              "        Psychic      5\n",
              "        Rock         4\n",
              "        Steel        1\n",
              "Name: Count, Length: 136, dtype: int64"
            ]
          },
          "metadata": {
            "tags": []
          },
          "execution_count": 67
        }
      ]
    },
    {
      "cell_type": "code",
      "metadata": {
        "id": "16dnTgQx0IP2"
      },
      "source": [
        ""
      ],
      "execution_count": null,
      "outputs": []
    }
  ]
}