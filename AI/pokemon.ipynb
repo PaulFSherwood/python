{
  "nbformat": 4,
  "nbformat_minor": 0,
  "metadata": {
    "colab": {
      "name": "Untitled3.ipynb",
      "provenance": [],
      "authorship_tag": "ABX9TyNJt0Z/SfX928G2oXBOuhI5",
      "include_colab_link": true
    },
    "kernelspec": {
      "name": "python3",
      "display_name": "Python 3"
    }
  },
  "cells": [
    {
      "cell_type": "markdown",
      "metadata": {
        "id": "view-in-github",
        "colab_type": "text"
      },
      "source": [
        "<a href=\"https://colab.research.google.com/github/PaulFSherwood/python/blob/master/AI/pokemon.ipynb\" target=\"_parent\"><img src=\"https://colab.research.google.com/assets/colab-badge.svg\" alt=\"Open In Colab\"/></a>"
      ]
    },
    {
      "cell_type": "markdown",
      "metadata": {
        "id": "-9EWB92Crlds"
      },
      "source": [
        "# **Loading data into Pandas**"
      ]
    },
    {
      "cell_type": "code",
      "metadata": {
        "id": "AQJ_RAL2rrOX"
      },
      "source": [
        "## Complete Python Pandas Data Science Tutorial! (Reading CSV/Excel files, Sorting, Filtering, Groupby)\r\n",
        "## https://www.youtube.com/watch?v=vmEHCJofslg&t=266s\r\n",
        "import pandas as pd\r\n",
        "df = pd.read_csv('https://raw.githubusercontent.com/PaulFSherwood/python/master/AI/pokemon_data.csv')\r\n",
        "# print(df.head(10))\r\n",
        "# print(df.tail(2))"
      ],
      "execution_count": 5,
      "outputs": []
    },
    {
      "cell_type": "markdown",
      "metadata": {
        "id": "izFgayxD0KLJ"
      },
      "source": [
        "# **Reading Data into Pandas**"
      ]
    },
    {
      "cell_type": "code",
      "metadata": {
        "colab": {
          "base_uri": "https://localhost:8080/",
          "height": 204
        },
        "id": "OcQZKon5z02A",
        "outputId": "c8d413cf-249a-4aac-cf6f-62a150cda4b3"
      },
      "source": [
        "## Read Headers\r\n",
        "# print(df.columns)  # print headers\r\n",
        "df.columns\r\n",
        "\r\n",
        "#####     #####     #####     #####     #####\r\n",
        "## Read each Column\r\n",
        "## print(df[['Name', 'Type 1', 'HP']].head(10))  # print top ten rows\r\n",
        "\r\n",
        "#####     #####     #####     #####     #####\r\n",
        "## Read Each Row\r\n",
        "## print(df.iloc[1])                             # print location 1\r\n",
        "## print(df.iloc[2:5])                           # print series of rows\r\n",
        "\r\n",
        "\r\n",
        "# [ ***** ] #\r\n",
        "# Make sure the values with digits and T/F do not have quotes around them\r\n",
        "# Or it will think it is looking for a string over a integer/bool\r\n",
        "# [ ***** ] #\r\n",
        "\r\n",
        "# for index, row in df.iterrows():          ## trying to narrow down selection\r\n",
        "#   data = row['Legendary']                 ##\r\n",
        "#   if data == True:                        ##\r\n",
        "#     print(index, row)                     ##\r\n",
        "\r\n",
        "  # if df.iloc[index, row] == 'TRUE':\r\n",
        "  #if \"TRUE\" in row[11]:\r\n",
        "  #print(index, row[11])\r\n",
        "  #print(index, row['Legendary'])\r\n",
        "# df.loc[df['Type 1'] == \"Fire\"]  # Narrows to Fire only format is great\r\n",
        "#     [(     CONDITION 1       ) & (     CONDITION 2      )]\r\n",
        "df.loc[(df['Legendary'] == True) & (df['Type 1'] == \"Fire\")].head(10)  # MULTIPL conditions\r\n",
        "#df.loc[df['Type 1'] == \"Fire\"].head(3)   # one condition\r\n",
        "\r\n",
        "#####     #####     #####     #####     #####\r\n",
        "## Read a specific location (R, C)\r\n",
        "#  print(df.iloc[2, 11])\r\n",
        "\r\n",
        "# df.describe() #  get some stats"
      ],
      "execution_count": 123,
      "outputs": [
        {
          "output_type": "execute_result",
          "data": {
            "text/html": [
              "<div>\n",
              "<style scoped>\n",
              "    .dataframe tbody tr th:only-of-type {\n",
              "        vertical-align: middle;\n",
              "    }\n",
              "\n",
              "    .dataframe tbody tr th {\n",
              "        vertical-align: top;\n",
              "    }\n",
              "\n",
              "    .dataframe thead th {\n",
              "        text-align: right;\n",
              "    }\n",
              "</style>\n",
              "<table border=\"1\" class=\"dataframe\">\n",
              "  <thead>\n",
              "    <tr style=\"text-align: right;\">\n",
              "      <th></th>\n",
              "      <th>#</th>\n",
              "      <th>Name</th>\n",
              "      <th>Type 1</th>\n",
              "      <th>Type 2</th>\n",
              "      <th>HP</th>\n",
              "      <th>Attack</th>\n",
              "      <th>Defense</th>\n",
              "      <th>Sp. Atk</th>\n",
              "      <th>Sp. Def</th>\n",
              "      <th>Speed</th>\n",
              "      <th>Generation</th>\n",
              "      <th>Legendary</th>\n",
              "    </tr>\n",
              "  </thead>\n",
              "  <tbody>\n",
              "    <tr>\n",
              "      <th>158</th>\n",
              "      <td>146</td>\n",
              "      <td>Moltres</td>\n",
              "      <td>Fire</td>\n",
              "      <td>Flying</td>\n",
              "      <td>90</td>\n",
              "      <td>100</td>\n",
              "      <td>90</td>\n",
              "      <td>125</td>\n",
              "      <td>85</td>\n",
              "      <td>90</td>\n",
              "      <td>1</td>\n",
              "      <td>True</td>\n",
              "    </tr>\n",
              "    <tr>\n",
              "      <th>263</th>\n",
              "      <td>244</td>\n",
              "      <td>Entei</td>\n",
              "      <td>Fire</td>\n",
              "      <td>NaN</td>\n",
              "      <td>115</td>\n",
              "      <td>115</td>\n",
              "      <td>85</td>\n",
              "      <td>90</td>\n",
              "      <td>75</td>\n",
              "      <td>100</td>\n",
              "      <td>2</td>\n",
              "      <td>True</td>\n",
              "    </tr>\n",
              "    <tr>\n",
              "      <th>270</th>\n",
              "      <td>250</td>\n",
              "      <td>Ho-oh</td>\n",
              "      <td>Fire</td>\n",
              "      <td>Flying</td>\n",
              "      <td>106</td>\n",
              "      <td>130</td>\n",
              "      <td>90</td>\n",
              "      <td>110</td>\n",
              "      <td>154</td>\n",
              "      <td>90</td>\n",
              "      <td>2</td>\n",
              "      <td>True</td>\n",
              "    </tr>\n",
              "    <tr>\n",
              "      <th>542</th>\n",
              "      <td>485</td>\n",
              "      <td>Heatran</td>\n",
              "      <td>Fire</td>\n",
              "      <td>Steel</td>\n",
              "      <td>91</td>\n",
              "      <td>90</td>\n",
              "      <td>106</td>\n",
              "      <td>130</td>\n",
              "      <td>106</td>\n",
              "      <td>77</td>\n",
              "      <td>4</td>\n",
              "      <td>True</td>\n",
              "    </tr>\n",
              "    <tr>\n",
              "      <th>799</th>\n",
              "      <td>721</td>\n",
              "      <td>Volcanion</td>\n",
              "      <td>Fire</td>\n",
              "      <td>Water</td>\n",
              "      <td>80</td>\n",
              "      <td>110</td>\n",
              "      <td>120</td>\n",
              "      <td>130</td>\n",
              "      <td>90</td>\n",
              "      <td>70</td>\n",
              "      <td>6</td>\n",
              "      <td>True</td>\n",
              "    </tr>\n",
              "  </tbody>\n",
              "</table>\n",
              "</div>"
            ],
            "text/plain": [
              "       #       Name Type 1  Type 2  ...  Sp. Def  Speed  Generation  Legendary\n",
              "158  146    Moltres   Fire  Flying  ...       85     90           1       True\n",
              "263  244      Entei   Fire     NaN  ...       75    100           2       True\n",
              "270  250      Ho-oh   Fire  Flying  ...      154     90           2       True\n",
              "542  485    Heatran   Fire   Steel  ...      106     77           4       True\n",
              "799  721  Volcanion   Fire   Water  ...       90     70           6       True\n",
              "\n",
              "[5 rows x 12 columns]"
            ]
          },
          "metadata": {
            "tags": []
          },
          "execution_count": 123
        }
      ]
    },
    {
      "cell_type": "code",
      "metadata": {
        "id": "16dnTgQx0IP2"
      },
      "source": [
        ""
      ],
      "execution_count": null,
      "outputs": []
    }
  ]
}