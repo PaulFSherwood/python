{
  "nbformat": 4,
  "nbformat_minor": 0,
  "metadata": {
    "colab": {
      "name": "Untitled7.ipynb",
      "provenance": [],
      "authorship_tag": "ABX9TyM7Vl56yLk/fktoMs/RFMpK",
      "include_colab_link": true
    },
    "kernelspec": {
      "name": "python3",
      "display_name": "Python 3"
    }
  },
  "cells": [
    {
      "cell_type": "markdown",
      "metadata": {
        "id": "view-in-github",
        "colab_type": "text"
      },
      "source": [
        "<a href=\"https://colab.research.google.com/github/PaulFSherwood/python/blob/master/AI/DeepComputerVision.ipynb\" target=\"_parent\"><img src=\"https://colab.research.google.com/assets/colab-badge.svg\" alt=\"Open In Colab\"/></a>"
      ]
    },
    {
      "cell_type": "markdown",
      "metadata": {
        "id": "L8QfiSUppA2z"
      },
      "source": [
        "# **Deep Computer Vision**\r\n",
        "https://www.youtube.com/watch?v=tPYj3fFJGjk&t=3437s"
      ]
    },
    {
      "cell_type": "code",
      "metadata": {
        "id": "D3Y4fqz5o908",
        "colab": {
          "base_uri": "https://localhost:8080/"
        },
        "outputId": "fdc01f6d-7a03-4cbf-a9be-d390136881a1"
      },
      "source": [
        "%tensorflow_version 2.x  # this line is not required unless you are in a notebook\r\n",
        "import tensorflow as tf\r\n",
        "\r\n",
        "from tensorflow.keras import datasets, layers, models\r\n",
        "import matplotlib.pyplot as plt"
      ],
      "execution_count": 1,
      "outputs": [
        {
          "output_type": "stream",
          "text": [
            "`%tensorflow_version` only switches the major version: 1.x or 2.x.\n",
            "You set: `2.x  # this line is not required unless you are in a notebook`. This will be interpreted as: `2.x`.\n",
            "\n",
            "\n",
            "TensorFlow 2.x selected.\n"
          ],
          "name": "stdout"
        }
      ]
    },
    {
      "cell_type": "markdown",
      "metadata": {
        "id": "wJQZWLRppZKw"
      },
      "source": [
        "Load images"
      ]
    },
    {
      "cell_type": "code",
      "metadata": {
        "colab": {
          "base_uri": "https://localhost:8080/"
        },
        "id": "VNloVCRmpan8",
        "outputId": "593d9c9d-a910-47fb-970b-3efb7bc1fefd"
      },
      "source": [
        "#  LOAD AND SPLIT DATASET\r\n",
        "(train_images, train_labels), (test_images, test_labels) = datasets.cifar10.load_data()\r\n",
        "\r\n",
        "# Normalize pixel values to be between 0 and 1\r\n",
        "train_images, test_images = train_images / 255.0, test_images / 255.0\r\n",
        "\r\n",
        "class_names = ['airplane', 'automobile', 'bird', 'cat', 'deer',\r\n",
        "               'dog', 'frog', 'horse', 'ship', 'truck']"
      ],
      "execution_count": 2,
      "outputs": [
        {
          "output_type": "stream",
          "text": [
            "Downloading data from https://www.cs.toronto.edu/~kriz/cifar-10-python.tar.gz\n",
            "170500096/170498071 [==============================] - 2s 0us/step\n"
          ],
          "name": "stdout"
        }
      ]
    },
    {
      "cell_type": "markdown",
      "metadata": {
        "id": "pdoz81MXpeAY"
      },
      "source": [
        "Look at one image."
      ]
    },
    {
      "cell_type": "code",
      "metadata": {
        "colab": {
          "base_uri": "https://localhost:8080/",
          "height": 280
        },
        "id": "spX1rVwapgMH",
        "outputId": "09910815-1815-4923-f932-e230d753a24a"
      },
      "source": [
        "# Let's look at a one image\r\n",
        "IMG_INDEX = 2  # change this to look at other images\r\n",
        "\r\n",
        "plt.imshow(train_images[IMG_INDEX] ,cmap=plt.cm.binary)\r\n",
        "plt.xlabel(class_names[train_labels[IMG_INDEX][0]])\r\n",
        "plt.show()"
      ],
      "execution_count": 7,
      "outputs": [
        {
          "output_type": "display_data",
          "data": {
            "image/png": "[encoded data removed]",
            "text/plain": [
              "<Figure size 432x288 with 1 Axes>"
            ]
          },
          "metadata": {
            "tags": [],
            "needs_background": "light"
          }
        }
      ]
    },
    {
      "cell_type": "markdown",
      "metadata": {
        "id": "BRxkzIWHp2Zh"
      },
      "source": [
        "# **CNN Architecture**\r\n",
        "Conv2d - MaxPooling2D\r\n",
        "stack of convolutional and maxPooling layers extract the features from the image. "
      ]
    },
    {
      "cell_type": "code",
      "metadata": {
        "id": "ArxNnWILp-sr"
      },
      "source": [
        "model = models.Sequential()\r\n",
        "model.add(layers.Conv2D(32, (3, 3), activation='relu', input_shape=(32, 32, 3)))\r\n",
        "model.add(layers.MaxPooling2D((2, 2)))\r\n",
        "model.add(layers.Conv2D(64, (3, 3), activation='relu'))\r\n",
        "model.add(layers.MaxPooling2D((2, 2)))\r\n",
        "model.add(layers.Conv2D(64, (3, 3), activation='relu'))"
      ],
      "execution_count": 8,
      "outputs": []
    },
    {
      "cell_type": "code",
      "metadata": {
        "colab": {
          "base_uri": "https://localhost:8080/"
        },
        "id": "ddXHPAo7tWvk",
        "outputId": "563bb9f8-4a58-4ec1-c632-f13beb8d9773"
      },
      "source": [
        "model.summary()  # let's have a look at our model so far"
      ],
      "execution_count": 9,
      "outputs": [
        {
          "output_type": "stream",
          "text": [
            "Model: \"sequential\"\n",
            "_________________________________________________________________\n",
            "Layer (type)                 Output Shape              Param #   \n",
            "=================================================================\n",
            "conv2d (Conv2D)              (None, 30, 30, 32)        896       \n",
            "_________________________________________________________________\n",
            "max_pooling2d (MaxPooling2D) (None, 15, 15, 32)        0         \n",
            "_________________________________________________________________\n",
            "conv2d_1 (Conv2D)            (None, 13, 13, 64)        18496     \n",
            "_________________________________________________________________\n",
            "max_pooling2d_1 (MaxPooling2 (None, 6, 6, 64)          0         \n",
            "_________________________________________________________________\n",
            "conv2d_2 (Conv2D)            (None, 4, 4, 64)          36928     \n",
            "=================================================================\n",
            "Total params: 56,320\n",
            "Trainable params: 56,320\n",
            "Non-trainable params: 0\n",
            "_________________________________________________________________\n"
          ],
          "name": "stdout"
        }
      ]
    },
    {
      "cell_type": "markdown",
      "metadata": {
        "id": "NKPxf20Bto7s"
      },
      "source": [
        "# **Adding Dense Layers**"
      ]
    },
    {
      "cell_type": "code",
      "metadata": {
        "id": "CTzxkBKAtsQL"
      },
      "source": [
        "model.add(layers.Flatten())\r\n",
        "model.add(layers.Dense(64, activation='relu'))\r\n",
        "model.add(layers.Dense(10))"
      ],
      "execution_count": 10,
      "outputs": []
    },
    {
      "cell_type": "code",
      "metadata": {
        "id": "7QTB1wP0uKPr",
        "outputId": "9b0a0647-3200-42eb-d706-86dee7b50481",
        "colab": {
          "base_uri": "https://localhost:8080/"
        }
      },
      "source": [
        "model.summary()"
      ],
      "execution_count": 11,
      "outputs": [
        {
          "output_type": "stream",
          "text": [
            "Model: \"sequential\"\n",
            "_________________________________________________________________\n",
            "Layer (type)                 Output Shape              Param #   \n",
            "=================================================================\n",
            "conv2d (Conv2D)              (None, 30, 30, 32)        896       \n",
            "_________________________________________________________________\n",
            "max_pooling2d (MaxPooling2D) (None, 15, 15, 32)        0         \n",
            "_________________________________________________________________\n",
            "conv2d_1 (Conv2D)            (None, 13, 13, 64)        18496     \n",
            "_________________________________________________________________\n",
            "max_pooling2d_1 (MaxPooling2 (None, 6, 6, 64)          0         \n",
            "_________________________________________________________________\n",
            "conv2d_2 (Conv2D)            (None, 4, 4, 64)          36928     \n",
            "_________________________________________________________________\n",
            "flatten (Flatten)            (None, 1024)              0         \n",
            "_________________________________________________________________\n",
            "dense (Dense)                (None, 64)                65600     \n",
            "_________________________________________________________________\n",
            "dense_1 (Dense)              (None, 10)                650       \n",
            "=================================================================\n",
            "Total params: 122,570\n",
            "Trainable params: 122,570\n",
            "Non-trainable params: 0\n",
            "_________________________________________________________________\n"
          ],
          "name": "stdout"
        }
      ]
    },
    {
      "cell_type": "markdown",
      "metadata": {
        "id": "mk6V3cxYuOi0"
      },
      "source": [
        "# **Training**"
      ]
    },
    {
      "cell_type": "code",
      "metadata": {
        "id": "8xFAqr1DuP_I",
        "outputId": "3a281e0b-5e94-47aa-d9f6-a3e33d717e25",
        "colab": {
          "base_uri": "https://localhost:8080/"
        }
      },
      "source": [
        "model.compile(optimizer='adam',\r\n",
        "              loss=tf.keras.losses.SparseCategoricalCrossentropy(from_logits=True),\r\n",
        "              metrics=['accuracy'])\r\n",
        "\r\n",
        "history = model.fit(train_images, train_labels, epochs=15, \r\n",
        "                    validation_data=(test_images, test_labels))"
      ],
      "execution_count": 14,
      "outputs": [
        {
          "output_type": "stream",
          "text": [
            "Epoch 1/15\n",
            "1563/1563 [==============================] - 69s 44ms/step - loss: 0.5903 - accuracy: 0.7916 - val_loss: 0.9282 - val_accuracy: 0.6899\n",
            "Epoch 2/15\n",
            "1563/1563 [==============================] - 68s 43ms/step - loss: 0.5437 - accuracy: 0.8096 - val_loss: 0.9353 - val_accuracy: 0.7024\n",
            "Epoch 3/15\n",
            "1563/1563 [==============================] - 67s 43ms/step - loss: 0.5261 - accuracy: 0.8107 - val_loss: 0.9039 - val_accuracy: 0.7072\n",
            "Epoch 4/15\n",
            "1563/1563 [==============================] - 67s 43ms/step - loss: 0.4872 - accuracy: 0.8284 - val_loss: 0.9637 - val_accuracy: 0.7091\n",
            "Epoch 5/15\n",
            "1563/1563 [==============================] - 68s 43ms/step - loss: 0.4539 - accuracy: 0.8401 - val_loss: 0.9956 - val_accuracy: 0.7020\n",
            "Epoch 6/15\n",
            "1563/1563 [==============================] - 67s 43ms/step - loss: 0.4374 - accuracy: 0.8473 - val_loss: 0.9927 - val_accuracy: 0.7002\n",
            "Epoch 7/15\n",
            "1563/1563 [==============================] - 68s 43ms/step - loss: 0.3975 - accuracy: 0.8609 - val_loss: 1.0230 - val_accuracy: 0.7090\n",
            "Epoch 8/15\n",
            "1563/1563 [==============================] - 68s 44ms/step - loss: 0.3739 - accuracy: 0.8675 - val_loss: 1.0562 - val_accuracy: 0.7057\n",
            "Epoch 9/15\n",
            "1563/1563 [==============================] - 68s 44ms/step - loss: 0.3456 - accuracy: 0.8782 - val_loss: 1.0966 - val_accuracy: 0.7013\n",
            "Epoch 10/15\n",
            "1563/1563 [==============================] - 68s 44ms/step - loss: 0.3326 - accuracy: 0.8812 - val_loss: 1.1895 - val_accuracy: 0.6999\n",
            "Epoch 11/15\n",
            "1563/1563 [==============================] - 68s 43ms/step - loss: 0.3067 - accuracy: 0.8899 - val_loss: 1.2018 - val_accuracy: 0.6962\n",
            "Epoch 12/15\n",
            "1563/1563 [==============================] - 69s 44ms/step - loss: 0.2897 - accuracy: 0.8979 - val_loss: 1.2242 - val_accuracy: 0.6960\n",
            "Epoch 13/15\n",
            "1563/1563 [==============================] - 67s 43ms/step - loss: 0.2675 - accuracy: 0.9049 - val_loss: 1.2861 - val_accuracy: 0.6929\n",
            "Epoch 14/15\n",
            "1563/1563 [==============================] - 67s 43ms/step - loss: 0.2555 - accuracy: 0.9081 - val_loss: 1.3577 - val_accuracy: 0.6869\n",
            "Epoch 15/15\n",
            "1563/1563 [==============================] - 67s 43ms/step - loss: 0.2458 - accuracy: 0.9131 - val_loss: 1.3655 - val_accuracy: 0.6931\n"
          ],
          "name": "stdout"
        }
      ]
    },
    {
      "cell_type": "markdown",
      "metadata": {
        "id": "Snpf2YfyuTze"
      },
      "source": [
        "Evaluating the model"
      ]
    },
    {
      "cell_type": "code",
      "metadata": {
        "id": "mAz4os1MuWhG",
        "outputId": "0b3328d2-5c49-4e5b-f130-e1827f82ae33",
        "colab": {
          "base_uri": "https://localhost:8080/"
        }
      },
      "source": [
        "test_loss, test_acc = model.evaluate(test_images,  test_labels, verbose=2)\r\n",
        "print(test_acc)"
      ],
      "execution_count": 17,
      "outputs": [
        {
          "output_type": "stream",
          "text": [
            "313/313 - 3s - loss: 1.3655 - accuracy: 0.6931\n",
            "0.6930999755859375\n"
          ],
          "name": "stdout"
        }
      ]
    },
    {
      "cell_type": "markdown",
      "metadata": {
        "id": "Pjd4Z2vj-ckQ"
      },
      "source": [
        "**Data Augmentation**"
      ]
    },
    {
      "cell_type": "code",
      "metadata": {
        "id": "jZXoA8Qh-dzR",
        "outputId": "ff37a52e-74c8-425a-828a-581f2df3d968",
        "colab": {
          "base_uri": "https://localhost:8080/",
          "height": 1000
        }
      },
      "source": [
        "from keras.preprocessing import image\r\n",
        "from keras.preprocessing.image import ImageDataGenerator\r\n",
        "\r\n",
        "# creates a data generator object that transforms images\r\n",
        "datagen = ImageDataGenerator(\r\n",
        "rotation_range=40,\r\n",
        "width_shift_range=0.2,\r\n",
        "height_shift_range=0.2,\r\n",
        "shear_range=0.2,\r\n",
        "zoom_range=0.2,\r\n",
        "horizontal_flip=True,\r\n",
        "fill_mode='nearest')\r\n",
        "\r\n",
        "# pick an image to transform\r\n",
        "test_img = train_images[26]\r\n",
        "img = image.img_to_array(test_img)  # convert image to numpy arry\r\n",
        "img = img.reshape((1,) + img.shape)  # reshape image\r\n",
        "\r\n",
        "i = 0\r\n",
        "\r\n",
        "for batch in datagen.flow(img, save_prefix='test', save_format='jpeg'):  # this loops runs forever until we break, saving images to current directory with specified prefix\r\n",
        "    plt.figure(i)\r\n",
        "    plot = plt.imshow(image.img_to_array(batch[0]))\r\n",
        "    i += 1\r\n",
        "    if i > 4:  # show 4 images\r\n",
        "        break\r\n",
        "\r\n",
        "plt.show()"
      ],
      "execution_count": 19,
      "outputs": [
        {
          "output_type": "display_data",
          "data": {
            "image/png": "[encoded data removed]",
            "text/plain": [
              "<Figure size 432x288 with 1 Axes>"
            ]
          },
          "metadata": {
            "tags": [],
            "needs_background": "light"
          }
        },
        {
          "output_type": "display_data",
          "data": {
            "image/png": "[encoded data removed]",
            "text/plain": [
              "<Figure size 432x288 with 1 Axes>"
            ]
          },
          "metadata": {
            "tags": [],
            "needs_background": "light"
          }
        },
        {
          "output_type": "display_data",
          "data": {
            "image/png": "[encoded data removed]",
            "text/plain": [
              "<Figure size 432x288 with 1 Axes>"
            ]
          },
          "metadata": {
            "tags": [],
            "needs_background": "light"
          }
        },
        {
          "output_type": "display_data",
          "data": {
            "image/png": "[encoded data removed]",
            "text/plain": [
              "<Figure size 432x288 with 1 Axes>"
            ]
          },
          "metadata": {
            "tags": [],
            "needs_background": "light"
          }
        },
        {
          "output_type": "display_data",
          "data": {
            "image/png": "[encoded data removed]",
            "text/plain": [
              "<Figure size 432x288 with 1 Axes>"
            ]
          },
          "metadata": {
            "tags": [],
            "needs_background": "light"
          }
        }
      ]
    }
  ]
}