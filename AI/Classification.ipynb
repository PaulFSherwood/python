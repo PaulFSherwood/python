{
  "nbformat": 4,
  "nbformat_minor": 0,
  "metadata": {
    "colab": {
      "name": "Untitled4.ipynb",
      "provenance": [],
      "collapsed_sections": [],
      "authorship_tag": "ABX9TyOefedUI0tABu+b/ku6fjzb",
      "include_colab_link": true
    },
    "kernelspec": {
      "name": "python3",
      "display_name": "Python 3"
    }
  },
  "cells": [
    {
      "cell_type": "markdown",
      "metadata": {
        "id": "view-in-github",
        "colab_type": "text"
      },
      "source": [
        "<a href=\"https://colab.research.google.com/github/PaulFSherwood/python/blob/master/AI/Classification.ipynb\" target=\"_parent\"><img src=\"https://colab.research.google.com/assets/colab-badge.svg\" alt=\"Open In Colab\"/></a>"
      ]
    },
    {
      "cell_type": "markdown",
      "metadata": {
        "id": "kprOxXZjNBdm"
      },
      "source": [
        "# **Classification**"
      ]
    },
    {
      "cell_type": "markdown",
      "metadata": {
        "id": "JYv0xqYdNJ9T"
      },
      "source": [
        "Imports and Setup"
      ]
    },
    {
      "cell_type": "code",
      "metadata": {
        "colab": {
          "base_uri": "https://localhost:8080/"
        },
        "id": "w2FaBfpXNIlg",
        "outputId": "cbccceef-c48c-4af6-8e75-cedb7598c046"
      },
      "source": [
        "%tensorflow_version 2.x  # this line is not required unless you are in a notebook"
      ],
      "execution_count": 23,
      "outputs": [
        {
          "output_type": "stream",
          "text": [
            "`%tensorflow_version` only switches the major version: 1.x or 2.x.\n",
            "You set: `2.x  # this line is not required unless you are in a notebook`. This will be interpreted as: `2.x`.\n",
            "\n",
            "\n",
            "TensorFlow is already loaded. Please restart the runtime to change versions.\n"
          ],
          "name": "stdout"
        }
      ]
    },
    {
      "cell_type": "code",
      "metadata": {
        "id": "IzU6pZP8NR4K"
      },
      "source": [
        "from __future__ import absolute_import, division, print_function, unicode_literals\r\n",
        "import tensorflow as tf\r\n",
        "import pandas as pd"
      ],
      "execution_count": 24,
      "outputs": []
    },
    {
      "cell_type": "markdown",
      "metadata": {
        "id": "gfxEzKfqNozk"
      },
      "source": [
        "Dataset\r\n",
        "This specific dataset seperats flowers into 3 differnet classes of species.\r\n",
        "\r\n",
        "\r\n",
        "*   Setosa\r\n",
        "*   Versicolor\r\n",
        "*   Virginica\r\n",
        "The information about each flower is the following.\r\n",
        "*   sepal length\r\n",
        "*   sepal width\r\n",
        "*   petal length\r\n",
        "*   petal width\r\n",
        "\r\n"
      ]
    },
    {
      "cell_type": "code",
      "metadata": {
        "id": "8_DK8Ki6OAIr"
      },
      "source": [
        "CSV_COLUMN_NAMES = ['SepalLength', 'SepalWidth', 'PetalLength', 'PetalWidth', 'Species']\r\n",
        "SPECIES = ['Setosa', 'Versicolor', 'Virginica']\r\n",
        "# Lets define some constants to help us later on"
      ],
      "execution_count": 25,
      "outputs": []
    },
    {
      "cell_type": "code",
      "metadata": {
        "id": "VhUk4_yiOmkQ"
      },
      "source": [
        "# from:  https://colab.research.google.com/drive/15Cyy2H7nT40sGR7TBN5wBvgTd57mVKay#forceEdit=true&sandboxMode=true&scrollTo=BQ9uo6KkegBH\r\n",
        "#####     #####\r\n",
        "train_path = tf.keras.utils.get_file(\r\n",
        "    \"iris_training.csv\", \"https://storage.googleapis.com/download.tensorflow.org/data/iris_training.csv\")\r\n",
        "test_path = tf.keras.utils.get_file(\r\n",
        "    \"iris_test.csv\", \"https://storage.googleapis.com/download.tensorflow.org/data/iris_test.csv\")\r\n",
        "\r\n",
        "train = pd.read_csv(train_path, names=CSV_COLUMN_NAMES, header=0)\r\n",
        "test = pd.read_csv(test_path, names=CSV_COLUMN_NAMES, header=0)\r\n",
        "# Here we use keras (a module inside of TensorFlow) to grab our datasets and read them into a pandas dataframe"
      ],
      "execution_count": 26,
      "outputs": []
    },
    {
      "cell_type": "code",
      "metadata": {
        "colab": {
          "base_uri": "https://localhost:8080/",
          "height": 204
        },
        "id": "25zLuNp0PJ1z",
        "outputId": "764fe086-b16a-42d8-8fa9-2ec5795858b9"
      },
      "source": [
        "train.head()"
      ],
      "execution_count": 27,
      "outputs": [
        {
          "output_type": "execute_result",
          "data": {
            "text/html": [
              "<div>\n",
              "<style scoped>\n",
              "    .dataframe tbody tr th:only-of-type {\n",
              "        vertical-align: middle;\n",
              "    }\n",
              "\n",
              "    .dataframe tbody tr th {\n",
              "        vertical-align: top;\n",
              "    }\n",
              "\n",
              "    .dataframe thead th {\n",
              "        text-align: right;\n",
              "    }\n",
              "</style>\n",
              "<table border=\"1\" class=\"dataframe\">\n",
              "  <thead>\n",
              "    <tr style=\"text-align: right;\">\n",
              "      <th></th>\n",
              "      <th>SepalLength</th>\n",
              "      <th>SepalWidth</th>\n",
              "      <th>PetalLength</th>\n",
              "      <th>PetalWidth</th>\n",
              "      <th>Species</th>\n",
              "    </tr>\n",
              "  </thead>\n",
              "  <tbody>\n",
              "    <tr>\n",
              "      <th>0</th>\n",
              "      <td>6.4</td>\n",
              "      <td>2.8</td>\n",
              "      <td>5.6</td>\n",
              "      <td>2.2</td>\n",
              "      <td>2</td>\n",
              "    </tr>\n",
              "    <tr>\n",
              "      <th>1</th>\n",
              "      <td>5.0</td>\n",
              "      <td>2.3</td>\n",
              "      <td>3.3</td>\n",
              "      <td>1.0</td>\n",
              "      <td>1</td>\n",
              "    </tr>\n",
              "    <tr>\n",
              "      <th>2</th>\n",
              "      <td>4.9</td>\n",
              "      <td>2.5</td>\n",
              "      <td>4.5</td>\n",
              "      <td>1.7</td>\n",
              "      <td>2</td>\n",
              "    </tr>\n",
              "    <tr>\n",
              "      <th>3</th>\n",
              "      <td>4.9</td>\n",
              "      <td>3.1</td>\n",
              "      <td>1.5</td>\n",
              "      <td>0.1</td>\n",
              "      <td>0</td>\n",
              "    </tr>\n",
              "    <tr>\n",
              "      <th>4</th>\n",
              "      <td>5.7</td>\n",
              "      <td>3.8</td>\n",
              "      <td>1.7</td>\n",
              "      <td>0.3</td>\n",
              "      <td>0</td>\n",
              "    </tr>\n",
              "  </tbody>\n",
              "</table>\n",
              "</div>"
            ],
            "text/plain": [
              "   SepalLength  SepalWidth  PetalLength  PetalWidth  Species\n",
              "0          6.4         2.8          5.6         2.2        2\n",
              "1          5.0         2.3          3.3         1.0        1\n",
              "2          4.9         2.5          4.5         1.7        2\n",
              "3          4.9         3.1          1.5         0.1        0\n",
              "4          5.7         3.8          1.7         0.3        0"
            ]
          },
          "metadata": {
            "tags": []
          },
          "execution_count": 27
        }
      ]
    },
    {
      "cell_type": "markdown",
      "metadata": {
        "id": "-C87QvzYPMmV"
      },
      "source": [
        "Now we can pop the speciaeis column off and use that as our label"
      ]
    },
    {
      "cell_type": "code",
      "metadata": {
        "colab": {
          "base_uri": "https://localhost:8080/",
          "height": 204
        },
        "id": "awIo5Jn-PMEU",
        "outputId": "7f04ca73-b92d-4480-e4fb-43e7d48d6070"
      },
      "source": [
        "train_y = train.pop('Species')\r\n",
        "test_y = test.pop('Species')\r\n",
        "train.head() # the species column is now gone"
      ],
      "execution_count": 28,
      "outputs": [
        {
          "output_type": "execute_result",
          "data": {
            "text/html": [
              "<div>\n",
              "<style scoped>\n",
              "    .dataframe tbody tr th:only-of-type {\n",
              "        vertical-align: middle;\n",
              "    }\n",
              "\n",
              "    .dataframe tbody tr th {\n",
              "        vertical-align: top;\n",
              "    }\n",
              "\n",
              "    .dataframe thead th {\n",
              "        text-align: right;\n",
              "    }\n",
              "</style>\n",
              "<table border=\"1\" class=\"dataframe\">\n",
              "  <thead>\n",
              "    <tr style=\"text-align: right;\">\n",
              "      <th></th>\n",
              "      <th>SepalLength</th>\n",
              "      <th>SepalWidth</th>\n",
              "      <th>PetalLength</th>\n",
              "      <th>PetalWidth</th>\n",
              "    </tr>\n",
              "  </thead>\n",
              "  <tbody>\n",
              "    <tr>\n",
              "      <th>0</th>\n",
              "      <td>6.4</td>\n",
              "      <td>2.8</td>\n",
              "      <td>5.6</td>\n",
              "      <td>2.2</td>\n",
              "    </tr>\n",
              "    <tr>\n",
              "      <th>1</th>\n",
              "      <td>5.0</td>\n",
              "      <td>2.3</td>\n",
              "      <td>3.3</td>\n",
              "      <td>1.0</td>\n",
              "    </tr>\n",
              "    <tr>\n",
              "      <th>2</th>\n",
              "      <td>4.9</td>\n",
              "      <td>2.5</td>\n",
              "      <td>4.5</td>\n",
              "      <td>1.7</td>\n",
              "    </tr>\n",
              "    <tr>\n",
              "      <th>3</th>\n",
              "      <td>4.9</td>\n",
              "      <td>3.1</td>\n",
              "      <td>1.5</td>\n",
              "      <td>0.1</td>\n",
              "    </tr>\n",
              "    <tr>\n",
              "      <th>4</th>\n",
              "      <td>5.7</td>\n",
              "      <td>3.8</td>\n",
              "      <td>1.7</td>\n",
              "      <td>0.3</td>\n",
              "    </tr>\n",
              "  </tbody>\n",
              "</table>\n",
              "</div>"
            ],
            "text/plain": [
              "   SepalLength  SepalWidth  PetalLength  PetalWidth\n",
              "0          6.4         2.8          5.6         2.2\n",
              "1          5.0         2.3          3.3         1.0\n",
              "2          4.9         2.5          4.5         1.7\n",
              "3          4.9         3.1          1.5         0.1\n",
              "4          5.7         3.8          1.7         0.3"
            ]
          },
          "metadata": {
            "tags": []
          },
          "execution_count": 28
        }
      ]
    },
    {
      "cell_type": "code",
      "metadata": {
        "colab": {
          "base_uri": "https://localhost:8080/"
        },
        "id": "FKunFZc1Pb7k",
        "outputId": "a2316f7a-87d1-4eaa-89ec-e4ca7c568d57"
      },
      "source": [
        "train.shape  # we have 120 entries with 4 features."
      ],
      "execution_count": 29,
      "outputs": [
        {
          "output_type": "execute_result",
          "data": {
            "text/plain": [
              "(120, 4)"
            ]
          },
          "metadata": {
            "tags": []
          },
          "execution_count": 29
        }
      ]
    },
    {
      "cell_type": "markdown",
      "metadata": {
        "id": "ozaiTcfYP4-h"
      },
      "source": [
        "# **Input Function**\r\n",
        "Remember thta nasyt input functio we created earlier.  Well we need to make another one here!  Frtunatly for us this one is a little easier to digest."
      ]
    },
    {
      "cell_type": "code",
      "metadata": {
        "id": "eQak0R8BQE1i"
      },
      "source": [
        "def input_fn(features, labels, training=True, batch_size=256):\r\n",
        "    # Convert the inputs to a Dataset.\r\n",
        "    dataset = tf.data.Dataset.from_tensor_slices((dict(features), labels))\r\n",
        "\r\n",
        "    # Shuffle and repeat if you are in training mode.\r\n",
        "    if training:\r\n",
        "        dataset = dataset.shuffle(1000).repeat()\r\n",
        "    \r\n",
        "    return dataset.batch(batch_size)"
      ],
      "execution_count": 30,
      "outputs": []
    },
    {
      "cell_type": "markdown",
      "metadata": {
        "id": "47exI3JdQHal"
      },
      "source": [
        "# **Feature Columns**\r\n",
        "And you didn't think we forgot about the feature columns, did you?"
      ]
    },
    {
      "cell_type": "code",
      "metadata": {
        "colab": {
          "base_uri": "https://localhost:8080/"
        },
        "id": "yVcIW8HwQPNb",
        "outputId": "a4d8d1c2-4e34-40df-ac72-da7f9595f1e8"
      },
      "source": [
        "# Feature columns describe how to use the input.\r\n",
        "my_feature_columns = []\r\n",
        "for key in train.keys():\r\n",
        "    my_feature_columns.append(tf.feature_column.numeric_column(key=key))\r\n",
        "print(my_feature_columns)"
      ],
      "execution_count": 31,
      "outputs": [
        {
          "output_type": "stream",
          "text": [
            "[NumericColumn(key='SepalLength', shape=(1,), default_value=None, dtype=tf.float32, normalizer_fn=None), NumericColumn(key='SepalWidth', shape=(1,), default_value=None, dtype=tf.float32, normalizer_fn=None), NumericColumn(key='PetalLength', shape=(1,), default_value=None, dtype=tf.float32, normalizer_fn=None), NumericColumn(key='PetalWidth', shape=(1,), default_value=None, dtype=tf.float32, normalizer_fn=None)]\n"
          ],
          "name": "stdout"
        }
      ]
    },
    {
      "cell_type": "markdown",
      "metadata": {
        "id": "T_VCMACmQSzF"
      },
      "source": [
        "# **Building the Model**\r\n",
        "And now we are ready to choose a model. For classification tasks there are variety of different estimators/models that we can pick from. Some options are listed below.\r\n",
        "\r\n",
        "DNNClassifier (Deep Neural Network)\r\n",
        "LinearClassifier\r\n",
        "We can choose either model but the DNN seems to be the best choice. This is because we may not be able to find a linear coorespondence in our data.\r\n",
        "\r\n",
        "So let's build a model!"
      ]
    },
    {
      "cell_type": "code",
      "metadata": {
        "id": "1M5tLzhrQVDz",
        "outputId": "f4819364-b829-4b89-e1f5-f182260ffbbc",
        "colab": {
          "base_uri": "https://localhost:8080/"
        }
      },
      "source": [
        "# Build a DNN with 2 hidden layers with 30 and 10 hidden nodes each.\r\n",
        "classifier = tf.estimator.DNNClassifier(\r\n",
        "    feature_columns=my_feature_columns,\r\n",
        "    # Two hidden layers of 30 and 10 nodes respectively.\r\n",
        "    hidden_units=[30, 10],\r\n",
        "    # The model must choose between 3 classes.\r\n",
        "    n_classes=3)"
      ],
      "execution_count": 32,
      "outputs": [
        {
          "output_type": "stream",
          "text": [
            "INFO:tensorflow:Using default config.\n",
            "WARNING:tensorflow:Using temporary folder as model directory: /tmp/tmpbx7wdhjy\n",
            "INFO:tensorflow:Using config: {'_model_dir': '/tmp/tmpbx7wdhjy', '_tf_random_seed': None, '_save_summary_steps': 100, '_save_checkpoints_steps': None, '_save_checkpoints_secs': 600, '_session_config': allow_soft_placement: true\n",
            "graph_options {\n",
            "  rewrite_options {\n",
            "    meta_optimizer_iterations: ONE\n",
            "  }\n",
            "}\n",
            ", '_keep_checkpoint_max': 5, '_keep_checkpoint_every_n_hours': 10000, '_log_step_count_steps': 100, '_train_distribute': None, '_device_fn': None, '_protocol': None, '_eval_distribute': None, '_experimental_distribute': None, '_experimental_max_worker_delay_secs': None, '_session_creation_timeout_secs': 7200, '_checkpoint_save_graph_def': True, '_service': None, '_cluster_spec': ClusterSpec({}), '_task_type': 'worker', '_task_id': 0, '_global_id_in_cluster': 0, '_master': '', '_evaluation_master': '', '_is_chief': True, '_num_ps_replicas': 0, '_num_worker_replicas': 1}\n"
          ],
          "name": "stdout"
        }
      ]
    },
    {
      "cell_type": "markdown",
      "metadata": {
        "id": "Nz9ZE1kwQW1_"
      },
      "source": [
        "# **Training**\r\n",
        "Now it's time to train the model!"
      ]
    },
    {
      "cell_type": "code",
      "metadata": {
        "id": "mo0WGBq2QYw5",
        "outputId": "648b861e-3a01-4820-d0e2-8f32a6cdf740",
        "colab": {
          "base_uri": "https://localhost:8080/"
        }
      },
      "source": [
        "classifier.train(\r\n",
        "    input_fn=lambda: input_fn(train, train_y, training=True),\r\n",
        "    steps=5000)\r\n",
        "# We include a lambda to avoid creating an inner function previously"
      ],
      "execution_count": 33,
      "outputs": [
        {
          "output_type": "stream",
          "text": [
            "INFO:tensorflow:Calling model_fn.\n",
            "INFO:tensorflow:Done calling model_fn.\n",
            "INFO:tensorflow:Create CheckpointSaverHook.\n",
            "INFO:tensorflow:Graph was finalized.\n",
            "INFO:tensorflow:Running local_init_op.\n",
            "INFO:tensorflow:Done running local_init_op.\n",
            "INFO:tensorflow:Calling checkpoint listeners before saving checkpoint 0...\n",
            "INFO:tensorflow:Saving checkpoints for 0 into /tmp/tmpbx7wdhjy/model.ckpt.\n",
            "INFO:tensorflow:Calling checkpoint listeners after saving checkpoint 0...\n",
            "INFO:tensorflow:loss = 1.3484232, step = 0\n",
            "INFO:tensorflow:global_step/sec: 455.362\n",
            "INFO:tensorflow:loss = 1.0521224, step = 100 (0.224 sec)\n",
            "INFO:tensorflow:global_step/sec: 558.069\n",
            "INFO:tensorflow:loss = 0.99522305, step = 200 (0.176 sec)\n",
            "INFO:tensorflow:global_step/sec: 587.456\n",
            "INFO:tensorflow:loss = 0.94648206, step = 300 (0.173 sec)\n",
            "INFO:tensorflow:global_step/sec: 552.852\n",
            "INFO:tensorflow:loss = 0.896872, step = 400 (0.178 sec)\n",
            "INFO:tensorflow:global_step/sec: 550.616\n",
            "INFO:tensorflow:loss = 0.86899817, step = 500 (0.185 sec)\n",
            "INFO:tensorflow:global_step/sec: 560.608\n",
            "INFO:tensorflow:loss = 0.84285504, step = 600 (0.175 sec)\n",
            "INFO:tensorflow:global_step/sec: 543.807\n",
            "INFO:tensorflow:loss = 0.8166603, step = 700 (0.186 sec)\n",
            "INFO:tensorflow:global_step/sec: 610.766\n",
            "INFO:tensorflow:loss = 0.78680277, step = 800 (0.163 sec)\n",
            "INFO:tensorflow:global_step/sec: 561.428\n",
            "INFO:tensorflow:loss = 0.7695701, step = 900 (0.177 sec)\n",
            "INFO:tensorflow:global_step/sec: 556.279\n",
            "INFO:tensorflow:loss = 0.74233806, step = 1000 (0.180 sec)\n",
            "INFO:tensorflow:global_step/sec: 550.184\n",
            "INFO:tensorflow:loss = 0.709047, step = 1100 (0.182 sec)\n",
            "INFO:tensorflow:global_step/sec: 536.731\n",
            "INFO:tensorflow:loss = 0.699046, step = 1200 (0.186 sec)\n",
            "INFO:tensorflow:global_step/sec: 571.961\n",
            "INFO:tensorflow:loss = 0.6736672, step = 1300 (0.176 sec)\n",
            "INFO:tensorflow:global_step/sec: 564.566\n",
            "INFO:tensorflow:loss = 0.6603243, step = 1400 (0.179 sec)\n",
            "INFO:tensorflow:global_step/sec: 530.12\n",
            "INFO:tensorflow:loss = 0.65364045, step = 1500 (0.188 sec)\n",
            "INFO:tensorflow:global_step/sec: 568.736\n",
            "INFO:tensorflow:loss = 0.63091433, step = 1600 (0.178 sec)\n",
            "INFO:tensorflow:global_step/sec: 543.351\n",
            "INFO:tensorflow:loss = 0.6243063, step = 1700 (0.181 sec)\n",
            "INFO:tensorflow:global_step/sec: 577.04\n",
            "INFO:tensorflow:loss = 0.6134259, step = 1800 (0.173 sec)\n",
            "INFO:tensorflow:global_step/sec: 572.575\n",
            "INFO:tensorflow:loss = 0.60632, step = 1900 (0.177 sec)\n",
            "INFO:tensorflow:global_step/sec: 563.987\n",
            "INFO:tensorflow:loss = 0.58756685, step = 2000 (0.177 sec)\n",
            "INFO:tensorflow:global_step/sec: 551.537\n",
            "INFO:tensorflow:loss = 0.58317816, step = 2100 (0.179 sec)\n",
            "INFO:tensorflow:global_step/sec: 546.19\n",
            "INFO:tensorflow:loss = 0.57505524, step = 2200 (0.187 sec)\n",
            "INFO:tensorflow:global_step/sec: 470.276\n",
            "INFO:tensorflow:loss = 0.5657245, step = 2300 (0.210 sec)\n",
            "INFO:tensorflow:global_step/sec: 580.313\n",
            "INFO:tensorflow:loss = 0.55676836, step = 2400 (0.175 sec)\n",
            "INFO:tensorflow:global_step/sec: 573.823\n",
            "INFO:tensorflow:loss = 0.5582614, step = 2500 (0.172 sec)\n",
            "INFO:tensorflow:global_step/sec: 566.942\n",
            "INFO:tensorflow:loss = 0.53487235, step = 2600 (0.176 sec)\n",
            "INFO:tensorflow:global_step/sec: 542.632\n",
            "INFO:tensorflow:loss = 0.54147524, step = 2700 (0.185 sec)\n",
            "INFO:tensorflow:global_step/sec: 539.058\n",
            "INFO:tensorflow:loss = 0.5386243, step = 2800 (0.185 sec)\n",
            "INFO:tensorflow:global_step/sec: 568.916\n",
            "INFO:tensorflow:loss = 0.5266036, step = 2900 (0.179 sec)\n",
            "INFO:tensorflow:global_step/sec: 561.508\n",
            "INFO:tensorflow:loss = 0.51969063, step = 3000 (0.177 sec)\n",
            "INFO:tensorflow:global_step/sec: 578.622\n",
            "INFO:tensorflow:loss = 0.5004965, step = 3100 (0.171 sec)\n",
            "INFO:tensorflow:global_step/sec: 530.714\n",
            "INFO:tensorflow:loss = 0.50737447, step = 3200 (0.189 sec)\n",
            "INFO:tensorflow:global_step/sec: 558.185\n",
            "INFO:tensorflow:loss = 0.5019307, step = 3300 (0.180 sec)\n",
            "INFO:tensorflow:global_step/sec: 575.972\n",
            "INFO:tensorflow:loss = 0.48991758, step = 3400 (0.171 sec)\n",
            "INFO:tensorflow:global_step/sec: 574.019\n",
            "INFO:tensorflow:loss = 0.4956987, step = 3500 (0.175 sec)\n",
            "INFO:tensorflow:global_step/sec: 566.959\n",
            "INFO:tensorflow:loss = 0.4900431, step = 3600 (0.175 sec)\n",
            "INFO:tensorflow:global_step/sec: 564.364\n",
            "INFO:tensorflow:loss = 0.46764597, step = 3700 (0.180 sec)\n",
            "WARNING:tensorflow:It seems that global step (tf.train.get_global_step) has not been increased. Current value (could be stable): 3792 vs previous value: 3792. You could increase the global step by passing tf.train.get_global_step() to Optimizer.apply_gradients or Optimizer.minimize.\n",
            "INFO:tensorflow:global_step/sec: 507.965\n",
            "INFO:tensorflow:loss = 0.48895404, step = 3800 (0.194 sec)\n",
            "INFO:tensorflow:global_step/sec: 565.535\n",
            "INFO:tensorflow:loss = 0.48017785, step = 3900 (0.177 sec)\n",
            "INFO:tensorflow:global_step/sec: 518.171\n",
            "INFO:tensorflow:loss = 0.47538337, step = 4000 (0.194 sec)\n",
            "INFO:tensorflow:global_step/sec: 560.747\n",
            "INFO:tensorflow:loss = 0.47755855, step = 4100 (0.176 sec)\n",
            "INFO:tensorflow:global_step/sec: 555.549\n",
            "INFO:tensorflow:loss = 0.47354755, step = 4200 (0.183 sec)\n",
            "INFO:tensorflow:global_step/sec: 542.57\n",
            "INFO:tensorflow:loss = 0.46678028, step = 4300 (0.184 sec)\n",
            "INFO:tensorflow:global_step/sec: 522.606\n",
            "INFO:tensorflow:loss = 0.45781243, step = 4400 (0.189 sec)\n",
            "INFO:tensorflow:global_step/sec: 560.934\n",
            "INFO:tensorflow:loss = 0.4610539, step = 4500 (0.179 sec)\n",
            "INFO:tensorflow:global_step/sec: 574.694\n",
            "INFO:tensorflow:loss = 0.4575265, step = 4600 (0.173 sec)\n",
            "INFO:tensorflow:global_step/sec: 551.774\n",
            "INFO:tensorflow:loss = 0.4539726, step = 4700 (0.182 sec)\n",
            "INFO:tensorflow:global_step/sec: 559.818\n",
            "INFO:tensorflow:loss = 0.44880545, step = 4800 (0.181 sec)\n",
            "INFO:tensorflow:global_step/sec: 506.632\n",
            "INFO:tensorflow:loss = 0.44609118, step = 4900 (0.195 sec)\n",
            "INFO:tensorflow:Calling checkpoint listeners before saving checkpoint 5000...\n",
            "INFO:tensorflow:Saving checkpoints for 5000 into /tmp/tmpbx7wdhjy/model.ckpt.\n",
            "INFO:tensorflow:Calling checkpoint listeners after saving checkpoint 5000...\n",
            "INFO:tensorflow:Loss for final step: 0.45943326.\n"
          ],
          "name": "stdout"
        },
        {
          "output_type": "execute_result",
          "data": {
            "text/plain": [
              "<tensorflow_estimator.python.estimator.canned.dnn.DNNClassifierV2 at 0x7f4421373668>"
            ]
          },
          "metadata": {
            "tags": []
          },
          "execution_count": 33
        }
      ]
    },
    {
      "cell_type": "markdown",
      "metadata": {
        "id": "18RMcTV8QbFY"
      },
      "source": [
        "# **Evaluation**\r\n",
        "Now let's see how this trained model does!"
      ]
    },
    {
      "cell_type": "code",
      "metadata": {
        "id": "H2w6ihUOQcvN",
        "outputId": "cff2f352-5a6c-4f58-f1d0-0e8243a2e737",
        "colab": {
          "base_uri": "https://localhost:8080/"
        }
      },
      "source": [
        "eval_result = classifier.evaluate(\r\n",
        "    input_fn=lambda: input_fn(test, test_y, training=False))\r\n",
        "\r\n",
        "print('\\nTest set accuracy: {accuracy:0.3f}\\n'.format(**eval_result))"
      ],
      "execution_count": 34,
      "outputs": [
        {
          "output_type": "stream",
          "text": [
            "INFO:tensorflow:Calling model_fn.\n",
            "INFO:tensorflow:Done calling model_fn.\n",
            "INFO:tensorflow:Starting evaluation at 2020-12-29T00:38:55Z\n",
            "INFO:tensorflow:Graph was finalized.\n",
            "INFO:tensorflow:Restoring parameters from /tmp/tmpbx7wdhjy/model.ckpt-5000\n",
            "INFO:tensorflow:Running local_init_op.\n",
            "INFO:tensorflow:Done running local_init_op.\n",
            "INFO:tensorflow:Inference Time : 0.20357s\n",
            "INFO:tensorflow:Finished evaluation at 2020-12-29-00:38:55\n",
            "INFO:tensorflow:Saving dict for global step 5000: accuracy = 0.7, average_loss = 0.5326974, global_step = 5000, loss = 0.5326974\n",
            "INFO:tensorflow:Saving 'checkpoint_path' summary for global step 5000: /tmp/tmpbx7wdhjy/model.ckpt-5000\n",
            "\n",
            "Test set accuracy: 0.700\n",
            "\n"
          ],
          "name": "stdout"
        }
      ]
    },
    {
      "cell_type": "markdown",
      "metadata": {
        "id": "-4mZoH98QfYc"
      },
      "source": [
        "# **Predictions**\r\n",
        "Now that we have a trained model it's time to use it to make predictions. I've written a little script below that allows you to type the features of a flower and see a prediction for its class."
      ]
    },
    {
      "cell_type": "code",
      "metadata": {
        "id": "F8xc1A1IQgol",
        "outputId": "24dbbbe3-15f6-4343-d09c-4c500a3fabfe",
        "colab": {
          "base_uri": "https://localhost:8080/"
        }
      },
      "source": [
        "def input_fn(features, batch_size=256):\r\n",
        "    # Convert the inputs to a Dataset without labels.\r\n",
        "    return tf.data.Dataset.from_tensor_slices(dict(features)).batch(batch_size)\r\n",
        "\r\n",
        "features = ['SepalLength', 'SepalWidth', 'PetalLength', 'PetalWidth']\r\n",
        "predict = {}\r\n",
        "\r\n",
        "print(\"Please type numeric values as prompted.\")\r\n",
        "for feature in features:\r\n",
        "  valid = True\r\n",
        "  while valid: \r\n",
        "    val = input(feature + \": \")\r\n",
        "    if not val.isdigit(): valid = False\r\n",
        "\r\n",
        "  predict[feature] = [float(val)]\r\n",
        "\r\n",
        "predictions = classifier.predict(input_fn=lambda: input_fn(predict))\r\n",
        "for pred_dict in predictions:\r\n",
        "    class_id = pred_dict['class_ids'][0]\r\n",
        "    probability = pred_dict['probabilities'][class_id]\r\n",
        "\r\n",
        "    print('Prediction is \"{}\" ({:.1f}%)'.format(\r\n",
        "        SPECIES[class_id], 100 * probability))"
      ],
      "execution_count": 35,
      "outputs": [
        {
          "output_type": "stream",
          "text": [
            "Please type numeric values as prompted.\n",
            "SepalLength: 2.4\n",
            "SepalWidth: 2.6\n",
            "PetalLength: 6.5\n",
            "PetalWidth: 6.3\n",
            "INFO:tensorflow:Calling model_fn.\n",
            "INFO:tensorflow:Done calling model_fn.\n",
            "INFO:tensorflow:Graph was finalized.\n",
            "INFO:tensorflow:Restoring parameters from /tmp/tmpbx7wdhjy/model.ckpt-5000\n",
            "INFO:tensorflow:Running local_init_op.\n",
            "INFO:tensorflow:Done running local_init_op.\n",
            "Prediction is \"Virginica\" (81.7%)\n"
          ],
          "name": "stdout"
        }
      ]
    },
    {
      "cell_type": "code",
      "metadata": {
        "id": "sETYcHg5QkU6"
      },
      "source": [
        "# Here is some example input and expected classes you can try above\r\n",
        "expected = ['Setosa', 'Versicolor', 'Virginica']\r\n",
        "predict_x = {\r\n",
        "    'SepalLength': [5.1, 5.9, 6.9],\r\n",
        "    'SepalWidth': [3.3, 3.0, 3.1],\r\n",
        "    'PetalLength': [1.7, 4.2, 5.4],\r\n",
        "    'PetalWidth': [0.5, 1.5, 2.1],\r\n",
        "}"
      ],
      "execution_count": 36,
      "outputs": []
    }
  ]
}