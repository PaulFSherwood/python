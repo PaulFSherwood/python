{
  "nbformat": 4,
  "nbformat_minor": 0,
  "metadata": {
    "colab": {
      "name": "Untitled1.ipynb",
      "provenance": [],
      "authorship_tag": "ABX9TyMHOmQTh3TIt5OP9hY69OqF",
      "include_colab_link": true
    },
    "kernelspec": {
      "name": "python3",
      "display_name": "Python 3"
    }
  },
  "cells": [
    {
      "cell_type": "markdown",
      "metadata": {
        "id": "view-in-github",
        "colab_type": "text"
      },
      "source": [
        "<a href=\"https://colab.research.google.com/github/PaulFSherwood/python/blob/master/AI/TensorTest01.ipynb\" target=\"_parent\"><img src=\"https://colab.research.google.com/assets/colab-badge.svg\" alt=\"Open In Colab\"/></a>"
      ]
    },
    {
      "cell_type": "code",
      "metadata": {
        "colab": {
          "base_uri": "https://localhost:8080/"
        },
        "id": "gzeKnfouCBt7",
        "outputId": "3f9c86d1-c74e-4ffe-8e73-11c6b6fd0c41"
      },
      "source": [
        "%tensorflow_version 2.x  # this line is not required unless you are in a notebook\r\n",
        "import tensorflow as tf  # now import the tensorflow module\r\n",
        "print(tf.version)  # make sure the version is 2.x"
      ],
      "execution_count": 1,
      "outputs": [
        {
          "output_type": "stream",
          "text": [
            "`%tensorflow_version` only switches the major version: 1.x or 2.x.\n",
            "You set: `2.x  # this line is not required unless you are in a notebook`. This will be interpreted as: `2.x`.\n",
            "\n",
            "\n",
            "TensorFlow 2.x selected.\n",
            "<module 'tensorflow._api.v2.version' from '/usr/local/lib/python3.6/dist-packages/tensorflow/_api/v2/version/__init__.py'>\n"
          ],
          "name": "stdout"
        }
      ]
    },
    {
      "cell_type": "code",
      "metadata": {
        "id": "FLQTbE22H0XJ"
      },
      "source": [
        "tensor1 = tf.ones([1,2,3])\r\n",
        "tensor2 = tf.reshape(tensor1, [2,3,1])\r\n",
        "tensor3 = tf.reshape(tensor2, [3, -1])"
      ],
      "execution_count": 2,
      "outputs": []
    },
    {
      "cell_type": "code",
      "metadata": {
        "colab": {
          "base_uri": "https://localhost:8080/"
        },
        "id": "B_SD7GnpIRgG",
        "outputId": "6df8fe65-f8ad-494c-c792-f12ef1125a28"
      },
      "source": [
        "print(tensor1)\r\n",
        "print(tensor2)\r\n",
        "print(tensor3)"
      ],
      "execution_count": 3,
      "outputs": [
        {
          "output_type": "stream",
          "text": [
            "tf.Tensor(\n",
            "[[[1. 1. 1.]\n",
            "  [1. 1. 1.]]], shape=(1, 2, 3), dtype=float32)\n",
            "tf.Tensor(\n",
            "[[[1.]\n",
            "  [1.]\n",
            "  [1.]]\n",
            "\n",
            " [[1.]\n",
            "  [1.]\n",
            "  [1.]]], shape=(2, 3, 1), dtype=float32)\n",
            "tf.Tensor(\n",
            "[[1. 1.]\n",
            " [1. 1.]\n",
            " [1. 1.]], shape=(3, 2), dtype=float32)\n"
          ],
          "name": "stdout"
        }
      ]
    },
    {
      "cell_type": "code",
      "metadata": {
        "id": "ZWgHt_oFQI0p",
        "outputId": "5808c6f9-669c-41f7-a695-4e1a58a844ef",
        "colab": {
          "base_uri": "https://localhost:8080/"
        }
      },
      "source": [
        "tensor5 = tf.random.uniform([2,8,8],minval=0, maxval=2, dtype=tf.int32)\r\n",
        "print(tensor5)"
      ],
      "execution_count": 20,
      "outputs": [
        {
          "output_type": "stream",
          "text": [
            "tf.Tensor(\n",
            "[[[0 0 0 1 0 1 0 1]\n",
            "  [1 0 0 1 1 0 1 1]\n",
            "  [1 1 0 1 1 0 0 0]\n",
            "  [0 1 0 0 1 1 0 0]\n",
            "  [1 0 0 0 1 1 0 1]\n",
            "  [0 1 0 0 1 0 1 1]\n",
            "  [1 1 1 1 0 0 1 0]\n",
            "  [1 0 1 1 0 1 1 0]]\n",
            "\n",
            " [[1 0 0 0 1 1 1 1]\n",
            "  [1 0 0 0 0 0 0 0]\n",
            "  [0 0 1 0 0 1 0 0]\n",
            "  [0 0 0 1 0 0 1 0]\n",
            "  [0 1 0 0 1 0 0 0]\n",
            "  [0 0 0 1 0 0 1 1]\n",
            "  [0 0 1 1 1 0 0 1]\n",
            "  [1 0 1 1 1 0 1 1]]], shape=(2, 8, 8), dtype=int32)\n"
          ],
          "name": "stdout"
        }
      ]
    }
  ]
}