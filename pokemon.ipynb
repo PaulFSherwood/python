{
  "nbformat": 4,
  "nbformat_minor": 0,
  "metadata": {
    "colab": {
      "name": "Untitled3.ipynb",
      "provenance": [],
      "authorship_tag": "ABX9TyO7TWd2xHR4fqGfvuFYZay1",
      "include_colab_link": true
    },
    "kernelspec": {
      "name": "python3",
      "display_name": "Python 3"
    }
  },
  "cells": [
    {
      "cell_type": "markdown",
      "metadata": {
        "id": "view-in-github",
        "colab_type": "text"
      },
      "source": [
        "<a href=\"https://colab.research.google.com/github/PaulFSherwood/python/blob/master/pokemon.ipynb\" target=\"_parent\"><img src=\"https://colab.research.google.com/assets/colab-badge.svg\" alt=\"Open In Colab\"/></a>"
      ]
    },
    {
      "cell_type": "markdown",
      "metadata": {
        "id": "-9EWB92Crlds"
      },
      "source": [
        "# **Loading data into Pandas**"
      ]
    },
    {
      "cell_type": "code",
      "metadata": {
        "colab": {
          "base_uri": "https://localhost:8080/"
        },
        "id": "AQJ_RAL2rrOX",
        "outputId": "4f11ccfb-486e-4c55-f6af-76157908701c"
      },
      "source": [
        "import pandas as pd\r\n",
        "df = pd.read_csv('https://raw.githubusercontent.com/PaulFSherwood/python/master/AI/pokemon_data.csv')\r\n",
        "\r\n",
        "print(df)"
      ],
      "execution_count": 2,
      "outputs": [
        {
          "output_type": "stream",
          "text": [
            "       #                   Name   Type 1  ... Speed  Generation  Legendary\n",
            "0      1              Bulbasaur    Grass  ...    45           1      False\n",
            "1      2                Ivysaur    Grass  ...    60           1      False\n",
            "2      3               Venusaur    Grass  ...    80           1      False\n",
            "3      3  VenusaurMega Venusaur    Grass  ...    80           1      False\n",
            "4      4             Charmander     Fire  ...    65           1      False\n",
            "..   ...                    ...      ...  ...   ...         ...        ...\n",
            "795  719                Diancie     Rock  ...    50           6       True\n",
            "796  719    DiancieMega Diancie     Rock  ...   110           6       True\n",
            "797  720    HoopaHoopa Confined  Psychic  ...    70           6       True\n",
            "798  720     HoopaHoopa Unbound  Psychic  ...    80           6       True\n",
            "799  721              Volcanion     Fire  ...    70           6       True\n",
            "\n",
            "[800 rows x 12 columns]\n"
          ],
          "name": "stdout"
        }
      ]
    }
  ]
}